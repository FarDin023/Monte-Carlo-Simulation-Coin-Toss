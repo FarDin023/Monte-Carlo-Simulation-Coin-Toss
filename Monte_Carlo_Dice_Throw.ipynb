{
  "nbformat": 4,
  "nbformat_minor": 0,
  "metadata": {
    "colab": {
      "name": "Monte Carlo Dice Throw.ipynb",
      "provenance": []
    },
    "kernelspec": {
      "name": "python3",
      "display_name": "Python 3"
    },
    "language_info": {
      "name": "python"
    }
  },
  "cells": [
    {
      "cell_type": "code",
      "execution_count": 39,
      "metadata": {
        "colab": {
          "base_uri": "https://localhost:8080/"
        },
        "id": "s2Vie1s6-8_U",
        "outputId": "1823bdc4-0ae1-41f4-f20d-6385679ca629"
      },
      "outputs": [
        {
          "output_type": "stream",
          "name": "stdout",
          "text": [
            "Probability of 1: 0.16619\n",
            "Probability of 2: 0.16756\n",
            "Probability of 3: 0.16626\n",
            "Probability of 4: 0.16700\n",
            "Probability of 5: 0.16666\n",
            "Probability of 6: 0.16633\n"
          ]
        }
      ],
      "source": [
        "import random\n",
        "\n",
        "dice_throws = 10**6  \n",
        "roll_array = [0] * 6  \n",
        "\n",
        "for i in range(dice_throws):    \n",
        "    dice_1 = random.randint(1, 6)\n",
        "   \n",
        "    roll_sum = dice_1\n",
        "    \n",
        "    roll_array[roll_sum-1] += 1  \n",
        "\n",
        "for i, tally in enumerate(roll_array):\n",
        "    probability_of_roll = (tally) / dice_throws  \n",
        "    roll = i + 1  \n",
        "    print('Probability of {}: {:.5f}'.format(roll, probability_of_roll))"
      ]
    }
  ]
}