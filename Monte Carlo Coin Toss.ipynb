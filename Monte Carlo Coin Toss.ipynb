{
 "cells": [
  {
   "cell_type": "code",
   "execution_count": 6,
   "metadata": {},
   "outputs": [
    {
     "name": "stdout",
     "output_type": "stream",
     "text": [
      "Probability of heads is 0.50028\n",
      "Probability of tails is 0.49972\n"
     ]
    }
   ],
   "source": [
    "import random\n",
    "def MonteCarlo_CoinToss():\n",
    "    ran_num = random.uniform(0, 1)\n",
    "    if ran_num > 0.5: \n",
    "        return True\n",
    "    else:\n",
    "        return False\n",
    "\n",
    "# N = Number of instances\n",
    "N = 100000\n",
    "output = []\n",
    "for i in range(N):\n",
    "    result = MonteCarlo_CoinToss()\n",
    "    output.append(result)\n",
    "\n",
    "total_heads = sum(output) \n",
    "probability_of_heads = total_heads/N\n",
    "probability_of_tails = 1 - probability_of_heads\n",
    " \n",
    "print(\"Probability of heads is {:.5f}\".format(probability_of_heads))\n",
    "print(\"Probability of tails is {:.5f}\".format(probability_of_tails))\n"
   ]
  }
 ],
 "metadata": {
  "kernelspec": {
   "display_name": "Python 3",
   "language": "python",
   "name": "python3"
  },
  "language_info": {
   "codemirror_mode": {
    "name": "ipython",
    "version": 3
   },
   "file_extension": ".py",
   "mimetype": "text/x-python",
   "name": "python",
   "nbconvert_exporter": "python",
   "pygments_lexer": "ipython3",
   "version": "3.8.5"
  }
 },
 "nbformat": 4,
 "nbformat_minor": 4
}
